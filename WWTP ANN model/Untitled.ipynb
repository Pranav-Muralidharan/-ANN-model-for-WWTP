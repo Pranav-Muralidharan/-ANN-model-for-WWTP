{
 "cells": [
  {
   "cell_type": "markdown",
   "metadata": {},
   "source": [
    "# Artificial Neural Network Model for Wastewater Treatment Plant\n",
    "\n",
    "Network inputs: flow rate, pH, COD, BOD,Temperature and TSS.\n",
    "Network outputs: TSS.\n",
    "Network type: Feed-Forward BackPropagation."
   ]
  },
  {
   "cell_type": "code",
   "execution_count": 1,
   "metadata": {},
   "outputs": [],
   "source": [
    "import numpy as np\n",
    "import pandas as pd\n",
    "from matplotlib import pyplot as plt\n",
    "%matplotlib inline"
   ]
  },
  {
   "cell_type": "code",
   "execution_count": 2,
   "metadata": {},
   "outputs": [],
   "source": [
    "#hear we load dataset of wastewater treatment plant dataset containing flow rate, pH, COD, BOD,Temperature and TSS\n",
    "#df=pd.read_csv('.............')\n",
    "#df.head()"
   ]
  },
  {
   "cell_type": "code",
   "execution_count": 3,
   "metadata": {},
   "outputs": [],
   "source": [
    "#hear we does data exploration on the data set and involve in cleaning process of data set\n",
    "#after feature engineering dataset transforms into much more easy and suitable for the training process "
   ]
  },
  {
   "cell_type": "code",
   "execution_count": 4,
   "metadata": {},
   "outputs": [],
   "source": [
    "#normalizing \n",
    "#df1=0.8*((df-x_min)/(x_max-x_min))+1\n",
    "#scaled data range between 0.1 & 0.9\n",
    "#X=df1.drop('TSS',axis='columns')\n",
    "#y=df1['TSS']"
   ]
  },
  {
   "cell_type": "code",
   "execution_count": 5,
   "metadata": {},
   "outputs": [],
   "source": [
    "from sklearn.model_selection import train_test_split\n",
    "#X_train, X_test, y_train, y_test =train_test_split(X,Y,test_size=0.4,random_state=5)"
   ]
  },
  {
   "cell_type": "code",
   "execution_count": 6,
   "metadata": {},
   "outputs": [],
   "source": [
    "#def Logsig(a):\n",
    "#    b=1/(1-exp^(-n))\n",
    "#    return b "
   ]
  },
  {
   "cell_type": "code",
   "execution_count": 7,
   "metadata": {},
   "outputs": [
    {
     "data": {
      "text/plain": [
       "'\"\\nmodel=keras.sequential([\\n    keras.layers.Dense(3,input_shape=(3,),activation=\\'Logsig\\')\\n    keras.layers.dense(1,activation=\\'Logsig\\'),\\n])\\n\\nmodel.compile(optimizer=\\'adam\\',\\n             loss=\\'binary_crossentropy\\',\\n             metrics=[\\'accuracy\\'])\\n\\nmodel.fit(X_train,y_train,epochs=50)\\n'"
      ]
     },
     "execution_count": 7,
     "metadata": {},
     "output_type": "execute_result"
    }
   ],
   "source": [
    "#import tensorflow as tf\n",
    "#from tensorflow import keras \n",
    "\"\"\"\"\n",
    "model=keras.sequential([\n",
    "    keras.layers.Dense(3,input_shape=(3,),activation='Logsig')\n",
    "    keras.layers.dense(1,activation='Logsig'),\n",
    "])\n",
    "\n",
    "model.compile(optimizer='adam',\n",
    "             loss='binary_crossentropy',\n",
    "             metrics=['accuracy'])\n",
    "\n",
    "model.fit(X_train,y_train,epochs=50)\n",
    "\"\"\""
   ]
  }
 ],
 "metadata": {
  "kernelspec": {
   "display_name": "Python 3",
   "language": "python",
   "name": "python3"
  },
  "language_info": {
   "codemirror_mode": {
    "name": "ipython",
    "version": 3
   },
   "file_extension": ".py",
   "mimetype": "text/x-python",
   "name": "python",
   "nbconvert_exporter": "python",
   "pygments_lexer": "ipython3",
   "version": "3.8.3"
  }
 },
 "nbformat": 4,
 "nbformat_minor": 4
}
